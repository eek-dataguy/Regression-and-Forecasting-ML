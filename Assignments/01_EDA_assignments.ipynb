{
 "cells": [
  {
   "cell_type": "markdown",
   "id": "865cdb41",
   "metadata": {},
   "source": [
    "# Assignment 1: Basic EDA\n",
    "\n",
    "1. Read in the \"Computers.csv\" file. \n",
    "2. Explore the target variable, \"price\". Look at a histogram and boxplot of it.\n",
    "3. Then, produce histograms of the 'speed' and 'ram' variables. \n",
    "4. Feel free to further explore the dataset!"
   ]
  },
  {
   "cell_type": "code",
   "execution_count": 2,
   "id": "c298500d",
   "metadata": {},
   "outputs": [
    {
     "data": {
      "text/html": [
       "<div>\n",
       "<style scoped>\n",
       "    .dataframe tbody tr th:only-of-type {\n",
       "        vertical-align: middle;\n",
       "    }\n",
       "\n",
       "    .dataframe tbody tr th {\n",
       "        vertical-align: top;\n",
       "    }\n",
       "\n",
       "    .dataframe thead th {\n",
       "        text-align: right;\n",
       "    }\n",
       "</style>\n",
       "<table border=\"1\" class=\"dataframe\">\n",
       "  <thead>\n",
       "    <tr style=\"text-align: right;\">\n",
       "      <th></th>\n",
       "      <th>price</th>\n",
       "      <th>speed</th>\n",
       "      <th>hd</th>\n",
       "      <th>ram</th>\n",
       "      <th>screen</th>\n",
       "      <th>cd</th>\n",
       "      <th>multi</th>\n",
       "      <th>premium</th>\n",
       "      <th>ads</th>\n",
       "      <th>trend</th>\n",
       "    </tr>\n",
       "  </thead>\n",
       "  <tbody>\n",
       "    <tr>\n",
       "      <th>0</th>\n",
       "      <td>1499</td>\n",
       "      <td>25</td>\n",
       "      <td>80</td>\n",
       "      <td>4</td>\n",
       "      <td>14</td>\n",
       "      <td>no</td>\n",
       "      <td>no</td>\n",
       "      <td>yes</td>\n",
       "      <td>94</td>\n",
       "      <td>1</td>\n",
       "    </tr>\n",
       "    <tr>\n",
       "      <th>1</th>\n",
       "      <td>1795</td>\n",
       "      <td>33</td>\n",
       "      <td>85</td>\n",
       "      <td>2</td>\n",
       "      <td>14</td>\n",
       "      <td>no</td>\n",
       "      <td>no</td>\n",
       "      <td>yes</td>\n",
       "      <td>94</td>\n",
       "      <td>1</td>\n",
       "    </tr>\n",
       "    <tr>\n",
       "      <th>2</th>\n",
       "      <td>1595</td>\n",
       "      <td>25</td>\n",
       "      <td>170</td>\n",
       "      <td>4</td>\n",
       "      <td>15</td>\n",
       "      <td>no</td>\n",
       "      <td>no</td>\n",
       "      <td>yes</td>\n",
       "      <td>94</td>\n",
       "      <td>1</td>\n",
       "    </tr>\n",
       "    <tr>\n",
       "      <th>3</th>\n",
       "      <td>1849</td>\n",
       "      <td>25</td>\n",
       "      <td>170</td>\n",
       "      <td>8</td>\n",
       "      <td>14</td>\n",
       "      <td>no</td>\n",
       "      <td>no</td>\n",
       "      <td>no</td>\n",
       "      <td>94</td>\n",
       "      <td>1</td>\n",
       "    </tr>\n",
       "    <tr>\n",
       "      <th>4</th>\n",
       "      <td>3295</td>\n",
       "      <td>33</td>\n",
       "      <td>340</td>\n",
       "      <td>16</td>\n",
       "      <td>14</td>\n",
       "      <td>no</td>\n",
       "      <td>no</td>\n",
       "      <td>yes</td>\n",
       "      <td>94</td>\n",
       "      <td>1</td>\n",
       "    </tr>\n",
       "  </tbody>\n",
       "</table>\n",
       "</div>"
      ],
      "text/plain": [
       "   price  speed   hd  ram  screen  cd multi premium  ads  trend\n",
       "0   1499     25   80    4      14  no    no     yes   94      1\n",
       "1   1795     33   85    2      14  no    no     yes   94      1\n",
       "2   1595     25  170    4      15  no    no     yes   94      1\n",
       "3   1849     25  170    8      14  no    no      no   94      1\n",
       "4   3295     33  340   16      14  no    no     yes   94      1"
      ]
     },
     "execution_count": 2,
     "metadata": {},
     "output_type": "execute_result"
    }
   ],
   "source": [
    "import pandas as pd\n",
    "import seaborn as sns\n",
    "\n",
    "computers = pd.read_csv(\"../Data/Computers.csv\")\n",
    "\n",
    "computers.head()"
   ]
  },
  {
   "cell_type": "code",
   "execution_count": 21,
   "id": "62b10524",
   "metadata": {},
   "outputs": [
    {
     "name": "stdout",
     "output_type": "stream",
     "text": [
      "<class 'pandas.core.frame.DataFrame'>\n",
      "RangeIndex: 6259 entries, 0 to 6258\n",
      "Data columns (total 10 columns):\n",
      " #   Column   Non-Null Count  Dtype \n",
      "---  ------   --------------  ----- \n",
      " 0   price    6259 non-null   int64 \n",
      " 1   speed    6259 non-null   int64 \n",
      " 2   hd       6259 non-null   int64 \n",
      " 3   ram      6259 non-null   int64 \n",
      " 4   screen   6259 non-null   int64 \n",
      " 5   cd       6259 non-null   object\n",
      " 6   multi    6259 non-null   object\n",
      " 7   premium  6259 non-null   object\n",
      " 8   ads      6259 non-null   int64 \n",
      " 9   trend    6259 non-null   int64 \n",
      "dtypes: int64(7), object(3)\n",
      "memory usage: 489.1+ KB\n"
     ]
    }
   ],
   "source": [
    "computers.info()"
   ]
  },
  {
   "cell_type": "code",
   "execution_count": 22,
   "id": "416cc9ae",
   "metadata": {},
   "outputs": [
    {
     "data": {
      "text/html": [
       "<div>\n",
       "<style scoped>\n",
       "    .dataframe tbody tr th:only-of-type {\n",
       "        vertical-align: middle;\n",
       "    }\n",
       "\n",
       "    .dataframe tbody tr th {\n",
       "        vertical-align: top;\n",
       "    }\n",
       "\n",
       "    .dataframe thead th {\n",
       "        text-align: right;\n",
       "    }\n",
       "</style>\n",
       "<table border=\"1\" class=\"dataframe\">\n",
       "  <thead>\n",
       "    <tr style=\"text-align: right;\">\n",
       "      <th></th>\n",
       "      <th>price</th>\n",
       "      <th>speed</th>\n",
       "      <th>hd</th>\n",
       "      <th>ram</th>\n",
       "      <th>screen</th>\n",
       "      <th>ads</th>\n",
       "      <th>trend</th>\n",
       "    </tr>\n",
       "  </thead>\n",
       "  <tbody>\n",
       "    <tr>\n",
       "      <th>count</th>\n",
       "      <td>6259.000000</td>\n",
       "      <td>6259.000000</td>\n",
       "      <td>6259.000000</td>\n",
       "      <td>6259.000000</td>\n",
       "      <td>6259.000000</td>\n",
       "      <td>6259.000000</td>\n",
       "      <td>6259.000000</td>\n",
       "    </tr>\n",
       "    <tr>\n",
       "      <th>mean</th>\n",
       "      <td>2219.576610</td>\n",
       "      <td>52.011024</td>\n",
       "      <td>416.601694</td>\n",
       "      <td>8.286947</td>\n",
       "      <td>14.608723</td>\n",
       "      <td>221.301007</td>\n",
       "      <td>15.926985</td>\n",
       "    </tr>\n",
       "    <tr>\n",
       "      <th>std</th>\n",
       "      <td>580.803956</td>\n",
       "      <td>21.157735</td>\n",
       "      <td>258.548445</td>\n",
       "      <td>5.631099</td>\n",
       "      <td>0.905115</td>\n",
       "      <td>74.835284</td>\n",
       "      <td>7.873984</td>\n",
       "    </tr>\n",
       "    <tr>\n",
       "      <th>min</th>\n",
       "      <td>949.000000</td>\n",
       "      <td>25.000000</td>\n",
       "      <td>80.000000</td>\n",
       "      <td>2.000000</td>\n",
       "      <td>14.000000</td>\n",
       "      <td>39.000000</td>\n",
       "      <td>1.000000</td>\n",
       "    </tr>\n",
       "    <tr>\n",
       "      <th>25%</th>\n",
       "      <td>1794.000000</td>\n",
       "      <td>33.000000</td>\n",
       "      <td>214.000000</td>\n",
       "      <td>4.000000</td>\n",
       "      <td>14.000000</td>\n",
       "      <td>162.500000</td>\n",
       "      <td>10.000000</td>\n",
       "    </tr>\n",
       "    <tr>\n",
       "      <th>50%</th>\n",
       "      <td>2144.000000</td>\n",
       "      <td>50.000000</td>\n",
       "      <td>340.000000</td>\n",
       "      <td>8.000000</td>\n",
       "      <td>14.000000</td>\n",
       "      <td>246.000000</td>\n",
       "      <td>16.000000</td>\n",
       "    </tr>\n",
       "    <tr>\n",
       "      <th>75%</th>\n",
       "      <td>2595.000000</td>\n",
       "      <td>66.000000</td>\n",
       "      <td>528.000000</td>\n",
       "      <td>8.000000</td>\n",
       "      <td>15.000000</td>\n",
       "      <td>275.000000</td>\n",
       "      <td>21.500000</td>\n",
       "    </tr>\n",
       "    <tr>\n",
       "      <th>max</th>\n",
       "      <td>5399.000000</td>\n",
       "      <td>100.000000</td>\n",
       "      <td>2100.000000</td>\n",
       "      <td>32.000000</td>\n",
       "      <td>17.000000</td>\n",
       "      <td>339.000000</td>\n",
       "      <td>35.000000</td>\n",
       "    </tr>\n",
       "  </tbody>\n",
       "</table>\n",
       "</div>"
      ],
      "text/plain": [
       "             price        speed           hd          ram       screen  \\\n",
       "count  6259.000000  6259.000000  6259.000000  6259.000000  6259.000000   \n",
       "mean   2219.576610    52.011024   416.601694     8.286947    14.608723   \n",
       "std     580.803956    21.157735   258.548445     5.631099     0.905115   \n",
       "min     949.000000    25.000000    80.000000     2.000000    14.000000   \n",
       "25%    1794.000000    33.000000   214.000000     4.000000    14.000000   \n",
       "50%    2144.000000    50.000000   340.000000     8.000000    14.000000   \n",
       "75%    2595.000000    66.000000   528.000000     8.000000    15.000000   \n",
       "max    5399.000000   100.000000  2100.000000    32.000000    17.000000   \n",
       "\n",
       "               ads        trend  \n",
       "count  6259.000000  6259.000000  \n",
       "mean    221.301007    15.926985  \n",
       "std      74.835284     7.873984  \n",
       "min      39.000000     1.000000  \n",
       "25%     162.500000    10.000000  \n",
       "50%     246.000000    16.000000  \n",
       "75%     275.000000    21.500000  \n",
       "max     339.000000    35.000000  "
      ]
     },
     "execution_count": 22,
     "metadata": {},
     "output_type": "execute_result"
    }
   ],
   "source": [
    "computers.describe()"
   ]
  },
  {
   "cell_type": "code",
   "execution_count": 3,
   "id": "bcef27ba",
   "metadata": {},
   "outputs": [
    {
     "data": {
      "text/plain": [
       "<Axes: xlabel='price', ylabel='Count'>"
      ]
     },
     "execution_count": 3,
     "metadata": {},
     "output_type": "execute_result"
    },
    {
     "data": {
      "image/png": "[encoded data removed]",
      "text/plain": [
       "<Figure size 640x480 with 1 Axes>"
      ]
     },
     "metadata": {},
     "output_type": "display_data"
    }
   ],
   "source": [
    "sns.histplot(x=computers['price'])"
   ]
  },
  {
   "cell_type": "code",
   "execution_count": 6,
   "id": "a4dc343b",
   "metadata": {},
   "outputs": [
    {
     "data": {
      "image/png": "[encoded data removed]",
      "text/plain": [
       "<Figure size 640x480 with 1 Axes>"
      ]
     },
     "metadata": {},
     "output_type": "display_data"
    }
   ],
   "source": [
    "sns.boxplot(x=computers['price'])\n",
    "sns.despine()"
   ]
  },
  {
   "cell_type": "code",
   "execution_count": 17,
   "id": "c14e573f",
   "metadata": {},
   "outputs": [],
   "source": [
    "# sns.histplot(computers['ram'])"
   ]
  },
  {
   "cell_type": "code",
   "execution_count": 16,
   "id": "a995f9ba",
   "metadata": {},
   "outputs": [
    {
     "data": {
      "text/plain": [
       "<Axes: xlabel='ram'>"
      ]
     },
     "execution_count": 16,
     "metadata": {},
     "output_type": "execute_result"
    },
    {
     "data": {
      "image/png": "[encoded data removed]",
      "text/plain": [
       "<Figure size 640x480 with 1 Axes>"
      ]
     },
     "metadata": {},
     "output_type": "display_data"
    }
   ],
   "source": [
    "computers['ram'].value_counts().plot.bar()"
   ]
  },
  {
   "cell_type": "code",
   "execution_count": 20,
   "id": "6fa524b4",
   "metadata": {},
   "outputs": [
    {
     "data": {
      "text/plain": [
       "<Axes: xlabel='speed'>"
      ]
     },
     "execution_count": 20,
     "metadata": {},
     "output_type": "execute_result"
    },
    {
     "data": {
      "image/png": "[encoded data removed]",
      "text/plain": [
       "<Figure size 640x480 with 1 Axes>"
      ]
     },
     "metadata": {},
     "output_type": "display_data"
    }
   ],
   "source": [
    "computers['speed'].value_counts().plot.bar()"
   ]
  },
  {
   "cell_type": "markdown",
   "id": "a6f51439",
   "metadata": {},
   "source": [
    "## Assignment 2: Variable Relationships\n",
    "\n",
    "1. Build a correlation matrix of numeric features and pass it into a heatmap\n",
    "2. Build a pairplot of numeric features in the data. Hint: df.select_dtypes(\"number\") selects numeric columns. Consider sampling with df.sample(1000) to speed this up if it takes too long.\n",
    "3. Build an lmplot of ram vs. price. Does being a premium model (premium == 'yes') impact this relationship? "
   ]
  },
  {
   "cell_type": "code",
   "execution_count": null,
   "id": "0bf16e4d",
   "metadata": {
    "scrolled": true
   },
   "outputs": [],
   "source": []
  }
 ],
 "metadata": {
  "kernelspec": {
   "display_name": "Python 3",
   "language": "python",
   "name": "python3"
  },
  "language_info": {
   "codemirror_mode": {
    "name": "ipython",
    "version": 3
   },
   "file_extension": ".py",
   "mimetype": "text/x-python",
   "name": "python",
   "nbconvert_exporter": "python",
   "pygments_lexer": "ipython3",
   "version": "3.12.1"
  }
 },
 "nbformat": 4,
 "nbformat_minor": 5
}
